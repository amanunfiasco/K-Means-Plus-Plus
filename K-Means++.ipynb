{
  "nbformat": 4,
  "nbformat_minor": 0,
  "metadata": {
    "colab": {
      "provenance": []
    },
    "kernelspec": {
      "name": "python3",
      "display_name": "Python 3"
    },
    "language_info": {
      "name": "python"
    }
  },
  "cells": [
    {
      "cell_type": "markdown",
      "source": [
        "# **Sometimes you might get numpy.64 error, restart kernel to fix it.**"
      ],
      "metadata": {
        "id": "4QH0L3ulOhqk"
      }
    },
    {
      "cell_type": "code",
      "source": [
        "from PIL import Image\n",
        "import numpy as np\n",
        "import matplotlib.pyplot as plt\n",
        "import random\n",
        "import pandas as pd\n",
        "import math\n",
        "\n",
        "# Open the image using Pillow\n",
        "img = Image.open(\"/content/1.png\") #Your image here in grayscale\n",
        "img_gray = img.convert('L')\n",
        "img_array = np.array(img_gray)\n",
        "print(img_array.shape)\n",
        "\n",
        "# Create a plot to show the image\n",
        "plt.imshow(img_array, cmap='gray')\n",
        "plt.axis('off')\n",
        "plt.show()"
      ],
      "metadata": {
        "colab": {
          "base_uri": "https://localhost:8080/",
          "height": 423
        },
        "id": "pbv2bAf-cIcP",
        "outputId": "080cfe12-f9ee-458e-f96c-ff49ada4b1c1"
      },
      "execution_count": null,
      "outputs": [
        {
          "output_type": "stream",
          "name": "stdout",
          "text": [
            "(64, 64)\n"
          ]
        },
        {
          "output_type": "display_data",
          "data": {
            "text/plain": [
              "<Figure size 640x480 with 1 Axes>"
            ],
            "image/png": "[encoded data removed]"
          },
          "metadata": {}
        }
      ]
    },
    {
      "cell_type": "markdown",
      "source": [
        "# Here we implement the K-Means ++ clustering method, basically the ++ indicates that we intitialize the first centroids as far away from each other as possible and then update centroids"
      ],
      "metadata": {
        "id": "5rUh0HYEeAvU"
      }
    },
    {
      "cell_type": "code",
      "source": [
        "#Function for 300 or less iterations with some k\n",
        "def model(arr, k, iter = 300):\n",
        "  wcss = 0\n",
        "\n",
        "  all_points = []\n",
        "  for i in range (len(arr)):\n",
        "     for j in range (len(arr[0])):\n",
        "        if (arr[i,j] != 0):\n",
        "          all_points.append((i,j))\n",
        "\n",
        "  centroids = []\n",
        "  centroids.append(random.choice(all_points)) #First centroid at random\n",
        "\n",
        "  for i in range(k-1): #Initialize the rest as far from its nearest centroid\n",
        "    minDist = -1\n",
        "    for point in all_points:\n",
        "      dist = min([np.linalg.norm(np.array(point) - np.array(centr)) for centr in centroids])\n",
        "      if (dist > minDist):\n",
        "        minDist = dist\n",
        "        next = point\n",
        "    centroids.append(next)\n",
        "\n",
        "  out = centroids #for debugging and checking if ++ is working\n",
        "\n",
        "  for o in range (iter):\n",
        "\n",
        "    clusters = {}\n",
        "\n",
        "    for i in range (k):\n",
        "      clusters[i] = []\n",
        "\n",
        "    for point in all_points:\n",
        "      dist = [np.linalg.norm(np.array(point) - np.array(centr)) for centr in centroids] #initialize clusters\n",
        "      cluster = dist.index(min(dist))\n",
        "      clusters[cluster].append(point)\n",
        "\n",
        "    centroids.sort(key=lambda tup: tup[0]) #sort centroids on basis of x values so we can compare it to new one effectively\n",
        "    oldCent = centroids.copy()\n",
        "\n",
        "    for cluster in clusters:\n",
        "      cluster_points = np.array(clusters[cluster])\n",
        "      centroid_average = np.mean(cluster_points, axis=0)\n",
        "      centroids[cluster] = tuple(map(int, centroid_average))\n",
        "\n",
        "    centroids.sort(key=lambda tup: tup[0]) #sort new centroids\n",
        "\n",
        "    if all(np.linalg.norm(np.array(centroids[i]) - np.array(oldCent[i])) == 0 for i in range(k)): #calculate wcss with a another new centroids set for minimal error\n",
        "      for cluster in clusters:\n",
        "        cluster_points = np.array(clusters[cluster])\n",
        "        centroid_average = np.mean(cluster_points, axis=0)\n",
        "        wcss += np.sum((cluster_points - centroid_average) ** 2)\n",
        "        centroids[cluster] = tuple(map(int, centroid_average))\n",
        "      return clusters, centroids, wcss, all_points, out\n",
        "\n",
        "  return clusters, centroids, wcss, all_points, out"
      ],
      "metadata": {
        "id": "EbiZW5kguZcn"
      },
      "execution_count": null,
      "outputs": []
    },
    {
      "cell_type": "code",
      "source": [
        "#Elbow method applied here\n",
        "points = []\n",
        "\n",
        "for k in range(1,11):\n",
        "  wcss = model(img_array, k)[2]\n",
        "  points.append((k, wcss))\n",
        "\n",
        "line_vec = (points[-1][0] - points[0][0], points[-1][1] - points[0][1])\n",
        "line_vec_norm = line_vec / np.sqrt(line_vec[0]**2 + line_vec[1]**2)\n",
        "\n",
        "distances = []\n",
        "for point in points:\n",
        "    vector = (point[0] - points[0][0], point[1] - points[0][1])\n",
        "    dist_to_line = np.linalg.norm(vector - np.dot(vector, line_vec_norm) * line_vec_norm)\n",
        "    distances.append(dist_to_line)\n",
        "\n",
        "elbow_index = np.argmax(distances) #index of the elbow point\n",
        "elbow_point = points[elbow_index]\n",
        "\n",
        "\n",
        "x_values = [point[0] for point in points]\n",
        "y_values = [point[1] for point in points]\n",
        "\n",
        "plt.plot(x_values, y_values, color='blue', marker='o')\n",
        "plt.plot(elbow_point[0], elbow_point[1], 'mo', label='Elbow Point')\n",
        "plt.text(elbow_point[0], elbow_point[1], 'Elbow Point')\n",
        "plt.title('K-Means Clustering')\n",
        "plt.xlabel('K')\n",
        "plt.ylabel('WCSS')\n",
        "\n",
        "# Show the plot\n",
        "plt.show()"
      ],
      "metadata": {
        "id": "9OhrTNa8lMbV",
        "colab": {
          "base_uri": "https://localhost:8080/",
          "height": 472
        },
        "outputId": "2dca71ec-4a86-4fc8-f86d-234dc9365ada"
      },
      "execution_count": null,
      "outputs": [
        {
          "output_type": "display_data",
          "data": {
            "text/plain": [
              "<Figure size 640x480 with 1 Axes>"
            ],
            "image/png": "[encoded data removed]"
          },
          "metadata": {}
        }
      ]
    },
    {
      "cell_type": "code",
      "source": [
        "# Create a plot to show the image\n",
        "k = elbow_point[0]\n",
        "print(k)\n",
        "colors = ['b','g','r','c','m','y']\n",
        "\n",
        "final = model(img_array, k)\n",
        "centroids = final[1]\n",
        "clusters = final[0]\n",
        "out = final[4]\n",
        "print(final[4])\n",
        "print(centroids)\n",
        "\n",
        "plt.imshow(img_array, cmap='gray')\n",
        "for i in range(k):\n",
        "  color = colors[i % len(colors)]\n",
        "  for c in clusters[i]:\n",
        "    plt.scatter(c[1], c[0], color=color, s=100)  # clusters plotted with different colors\n",
        "\n",
        "for (x, y) in centroids:\n",
        "  plt.scatter(y, x, color='orange', s=100)  # Centroid plotted with orange color\n",
        "plt.axis('off')\n",
        "plt.show()"
      ],
      "metadata": {
        "colab": {
          "base_uri": "https://localhost:8080/",
          "height": 458
        },
        "id": "cGgWE3O4tr0j",
        "outputId": "7642d4a1-ac60-4fea-d413-9993c5785774"
      },
      "execution_count": null,
      "outputs": [
        {
          "output_type": "stream",
          "name": "stdout",
          "text": [
            "2\n",
            "[(20, 21), (38, 57)]\n",
            "[(20, 21), (38, 57)]\n"
          ]
        },
        {
          "output_type": "display_data",
          "data": {
            "text/plain": [
              "<Figure size 640x480 with 1 Axes>"
            ],
            "image/png": "[encoded data removed]"
          },
          "metadata": {}
        }
      ]
    },
    {
      "cell_type": "code",
      "source": [
        "#Matrix for distance between centroids\n",
        "def distance(point1, point2):\n",
        "    return np.sqrt((point1[0] - point2[0]) ** 2 + (point1[1] - point2[1]) ** 2)\n",
        "\n",
        "distance_matrix = np.zeros((k, k))\n",
        "\n",
        "for i in range(k):\n",
        "    for j in range(k):\n",
        "        distance_matrix[i, j] = distance(centroids[i], centroids[j])\n",
        "\n",
        "distance_df = pd.DataFrame(distance_matrix, columns=[f\"Centroid {i+1}\" for i in range(k)],\n",
        "                           index=[f\"Centroid {i+1}\" for i in range(k)])\n",
        "\n",
        "print(distance_df)"
      ],
      "metadata": {
        "colab": {
          "base_uri": "https://localhost:8080/"
        },
        "id": "wJYJ5M_Q3WXF",
        "outputId": "e48a91fb-aa88-4916-d5f7-36f6cc6737e7"
      },
      "execution_count": null,
      "outputs": [
        {
          "output_type": "stream",
          "name": "stdout",
          "text": [
            "            Centroid 1  Centroid 2\n",
            "Centroid 1    0.000000   40.249224\n",
            "Centroid 2   40.249224    0.000000\n"
          ]
        }
      ]
    }
  ]
}